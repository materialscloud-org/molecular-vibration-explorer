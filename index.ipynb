{
 "cells": [
  {
   "cell_type": "code",
   "execution_count": 5,
   "metadata": {},
   "outputs": [],
   "source": [
    "import ipywidgets as widgets\n",
    "from ipywidgets import HBox, Layout,VBox\n",
    "import webbrowser\n",
    "from urllib.parse import quote"
   ]
  },
  {
   "cell_type": "markdown",
   "metadata": {},
   "source": [
    "##  Molecular  Vibration  Explorer"
   ]
  },
  {
   "cell_type": "code",
   "execution_count": 6,
   "metadata": {},
   "outputs": [],
   "source": [
    "import os\n",
    "from IPython.core.display import HTML\n",
    "server = os.environ.get('SERVER_NAME', 'localhost') \n",
    "url = \"http://\" + server\n",
    "\n",
    "port = os.environ.get('SERVER_PORT', '')\n",
    "if port:\n",
    "    url += \":\" + port\n",
    "path = os.environ.get('SCRIPT_NAME', '')\n",
    "if path:\n",
    "    url += path\n",
    "else:\n",
    "    url=\"http://localhost:8888/voila/render/Documents/Work/Work_website/THOR-database/preamble.ipynb\"\n",
    "url=\"/\".join(url.split(\"/\")[:-1])"
   ]
  },
  {
   "cell_type": "code",
   "execution_count": 24,
   "metadata": {},
   "outputs": [
    {
     "data": {
      "application/vnd.jupyter.widget-view+json": {
       "model_id": "4a0c734e552f443e92c307ce7ef09679",
       "version_major": 2,
       "version_minor": 0
      },
      "text/plain": [
       "HBox(children=(Image(value=b'\\x89PNG\\r\\n\\x1a\\n\\x00\\x00\\x00\\rIHDR\\x00\\x00\\x01,\\x00\\x00\\x01,\\x08\\x02\\x00\\x00\\x00…"
      ]
     },
     "metadata": {},
     "output_type": "display_data"
    },
    {
     "data": {
      "application/vnd.jupyter.widget-view+json": {
       "model_id": "772237f6f538470099e895350a0ed3bc",
       "version_major": 2,
       "version_minor": 0
      },
      "text/plain": [
       "HBox(children=(HTML(value='<a href=http://localhost:8888/voila/render/Documents/Work/Work_website/THOR-databas…"
      ]
     },
     "metadata": {},
     "output_type": "display_data"
    }
   ],
   "source": [
    "# create notebooks buttons\n",
    "buttonlayout=widgets.Layout(width='300px')\n",
    "textlayout=widgets.Layout(width='300px')\n",
    "smiles_in=\"N#CCc1c(S)cc(cc1Br)Br\"\n",
    "\n",
    "SHurl=url+ \"/database.ipynb?SH=1\"\n",
    "Auurl=url+ \"/database.ipynb?SH=0\"\n",
    "Findurl=url+ \"/search.ipynb?smiles=\"+quote(smiles_in)\n",
    "\n",
    "Au_button = widgets.HTML(\n",
    "    value=f\"<a href=\"+ Auurl+ \"><font size=5> <b>Gold</b> database</a>\",\n",
    "    layout=buttonlayout,\n",
    ")\n",
    "\n",
    "SH_button = widgets.HTML(\n",
    "    value=f\"<a href=\"+ SHurl+ \"><font size=5> <b>Thiol</b> database</a>\",\n",
    "    layout=buttonlayout,\n",
    ")\n",
    "\n",
    "Find_button = widgets.HTML(\n",
    "    value=f\"<a href=\"+ Findurl+ \"><font size=5>Go</a>\",\n",
    "    layout=buttonlayout,\n",
    ")\n",
    "\n",
    "\n",
    "# create images widgets\n",
    "root_au='data_SAu/'\n",
    "root_sh='data_SH/'\n",
    "ext='.png'\n",
    "\n",
    "id_au='000-752-142'\n",
    "id_sh='26375826'\n",
    "\n",
    "file_au=root_au+id_au+ext\n",
    "file_sh=root_sh+id_sh+ext\n",
    "\n",
    "fid_au = open(file_au, \"rb\")\n",
    "fid_sh = open(file_sh, \"rb\")\n",
    "image_au = fid_au.read()\n",
    "image_sh = fid_sh.read()\n",
    "\n",
    "w_im_au=widgets.Image(\n",
    "    value=image_au,\n",
    "    format='png',\n",
    "    width=240,\n",
    "    height=320,\n",
    ")\n",
    "\n",
    "w_im_sh=widgets.Image(\n",
    "    value=image_sh,\n",
    "    format='png',\n",
    "    width=240,\n",
    "    height=320,\n",
    ")\n",
    "\n",
    "Find_text = widgets.Text(\n",
    "    placeholder='e.g. N#CCc1c(S)cc(cc1Br)Br',\n",
    "    disabled=False, \n",
    "    layout=textlayout\n",
    ")\n",
    "\n",
    "#search_line_1st = widgets.Label(value='Search database')\n",
    "Find_1st_line = widgets.HTML(\n",
    "    value=\"<font size=4>Search database\",\n",
    "    #layout=buttonlayout,\n",
    ")\n",
    "\n",
    "smiles_label = widgets.Label(value='Search for molecule: ')\n",
    "\n",
    "smiles_text = widgets.Label(value='N#CCc1c(S)cc(cc1Br)Br')\n",
    "\n",
    "def Find_callback(wdgt):\n",
    "    Findurl=url+ \"/search.ipynb?smiles=\"+quote(wdgt.value)\n",
    "    Find_button.value=f\"<a href=\"+ Findurl+ \"><font size=5>Go</a>\"\n",
    "    smiles_text.value=wdgt.value\n",
    "\n",
    "Find_text.on_submit(Find_callback)\n",
    "\n",
    "# layout\n",
    "#Au_panel=VBox([Au_button,w_im_au])\n",
    "#SH_panel=VBox([SH_button,w_im_sh])\n",
    "#Find_panel=VBox([Find_button,widgets.Label(value='Enter SMILES code and press enter:'),Find_text])\n",
    "\n",
    "Au_panel=VBox([w_im_au,Au_button])\n",
    "SH_panel=VBox([w_im_sh,SH_button])\n",
    "Find_panel=VBox([Find_1st_line,widgets.Label(value='Enter SMILES code and press $\\mathbf{Enter}$:'),Find_text,smiles_label,smiles_text])\n",
    "\n",
    "#display(HBox([Au_panel,SH_panel,Find_panel], layout=Layout(justify_content='space-around',align_items='center')))\n",
    "\n",
    "display(HBox([w_im_au,w_im_sh,Find_panel], \n",
    "             layout=Layout(justify_content='space-around',align_items='center')))\n",
    "display(HBox([Au_button,SH_button,Find_button], layout=Layout(justify_content='space-around')))\n"
   ]
  },
  {
   "cell_type": "code",
   "execution_count": 8,
   "metadata": {},
   "outputs": [
    {
     "data": {
      "application/vnd.jupyter.widget-view+json": {
       "model_id": "bc601ec9e8b7413da649babc62284440",
       "version_major": 2,
       "version_minor": 0
      },
      "text/plain": [
       "Accordion(children=(HTML(value='<b>Molecular  Vibration  Explorer</b> \\nis an interactive  tool  \\nfor explori…"
      ]
     },
     "metadata": {},
     "output_type": "display_data"
    }
   ],
   "source": [
    "about=\"\"\"<b>Molecular  Vibration  Explorer</b> \n",
    "is an interactive  tool  \n",
    "for exploring molecular vibrational  spectra  and  tensorial  light-vibration  \n",
    "coupling  strength for applications  in  the  field  of  surface-enhanced \n",
    "spectroscopy. The <b>Gold</b>  database gathers the results from density \n",
    "functional theory calculations on 2’800 commercially available thiol\n",
    "compounds linked to a gold atom, with the main motivation to screen the best molecules for\n",
    "THz and mid-infrared to visible upconversion, as reported in Ref. [1]. The <b>Thiol</b> database \n",
    "contains calculations on 1’900 commercially available thiol compounds.\n",
    "The different tools available to analyze the database were previously introduced in Ref. [1,2]. \n",
    "<br>\n",
    "\n",
    "\n",
    "Spectroscopies:\n",
    "<ul>\n",
    "  <li><font size=\"-1\">Infrared absorption</font></li>\n",
    "  <li><font size=\"-1\">Raman scattering</font></li>\n",
    "  <li><font size=\"-1\">Infrared to Raman conversion / vibrational sum-frequency generation</font></li>\n",
    "</ul>\n",
    "\n",
    "Functionalities:\n",
    "<ul>\n",
    "  <li><font size=\"-1\">Molecular screening based on intensity of individual normal modes or in a spectral window</font></li>\n",
    "  <li><font size=\"-1\">Electromagnetic field polarization directions</font></li>\n",
    "  <li><font size=\"-1\">Random or specific molecular orientation wrt. polarization vectors</font></li>\n",
    "</ul>\n",
    "\n",
    "References:\n",
    "<ul>\n",
    "  <li><font size=\"-1\">[1] Z. Koczor-Benda, A. L. Boehmke, A. Xomalis, R. Arul, C. Readman, J. J. Baumberg & E. Rosta\n",
    "  \"Molecular Screening for Terahertz Detection with Machine-Learning-Based Methods\",\n",
    "  <i>Phys. Rev. X</i> <b>11</b>(4):041035 (2021)</font></li>\n",
    "  <li><font size=\"-1\">[2] P. Roelli, D. Martin-Cano, T.J. Kippenberg & C. Galland, \n",
    "  \"Molecular Platform for Frequency Upconversion at the Single-Photon Level\", \n",
    "  <i>Phys. Rev. X</i>, <b>10</b>(3):031057 (2020)</font></li>\n",
    "</ul>\n",
    "\"\"\"\n",
    "\n",
    "howtocite=\"\"\"If this database was useful for your work, please cite it in the following way:<br>\n",
    "Z. Koczor-Benda, P. Roelli, C. Galland & E. Rosta, “Molecular Vibration Explorer: an online database \n",
    "and toolbox for terahertz detection, surface-enhanced infrared and Raman spectroscopy”, \n",
    "<i>arXiv:2112.11237</i> (2021)\n",
    "\"\"\"\n",
    "acknowledgements=\"\"\"This work received funding from the European Union’s Horizon 2020 research \n",
    "and innovation program under Grant Agreement No. 829067 (FET Open THOR). \n",
    "The authors want to thank Giovanni Pizzi and Dou Du for their technical support during the development of the website. \n",
    "\"\"\" \n",
    "\n",
    "preamble = widgets.Accordion(\n",
    "children=[widgets.HTML(value=about), \n",
    "          widgets.HTML(value=howtocite), \n",
    "          widgets.HTML(value=acknowledgements)], \n",
    "          selected_index=0)\n",
    "\n",
    "preamble.set_title(0, 'About')\n",
    "preamble.set_title(1, 'How to cite')\n",
    "preamble.set_title(2, 'Acknowledgements')\n",
    "display(preamble)"
   ]
  }
 ],
 "metadata": {
  "kernelspec": {
   "display_name": "Python 3",
   "language": "python",
   "name": "python3"
  },
  "language_info": {
   "codemirror_mode": {
    "name": "ipython",
    "version": 3
   },
   "file_extension": ".py",
   "mimetype": "text/x-python",
   "name": "python",
   "nbconvert_exporter": "python",
   "pygments_lexer": "ipython3",
   "version": "3.7.10"
  }
 },
 "nbformat": 4,
 "nbformat_minor": 4
}
