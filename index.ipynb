{
 "cells": [
  {
   "cell_type": "code",
   "execution_count": 2,
   "metadata": {},
   "outputs": [],
   "source": [
    "import ipywidgets as widgets"
   ]
  },
  {
   "cell_type": "markdown",
   "metadata": {},
   "source": [
    "##  Molecular  Vibration  Explorer"
   ]
  },
  {
   "cell_type": "code",
   "execution_count": 3,
   "metadata": {},
   "outputs": [
    {
     "data": {
      "application/vnd.jupyter.widget-view+json": {
       "model_id": "1f391164baae4ad58c76ce5f03d9b081",
       "version_major": 2,
       "version_minor": 0
      },
      "text/plain": [
       "Accordion(children=(HTML(value='<b>Molecular  Vibration  Explorer</b> \\nis an interactive  tool  \\nfor explori…"
      ]
     },
     "metadata": {},
     "output_type": "display_data"
    }
   ],
   "source": [
    "about=\"\"\"<b>Molecular  Vibration  Explorer</b> \n",
    "is an interactive  tool  \n",
    "for exploring molecular vibrational  spectra  and  tensorial  light-vibration  \n",
    "coupling  strength for applications  in  the  field  of  surface-enhanced \n",
    "spectroscopy. The <b>Gold</b>  database gathers the results from density \n",
    "functional theory calculations on 2’800 commercially available thiol\n",
    "compounds linked to a gold atom, with the main motivation to screen the best molecules for\n",
    "THz and mid-infrared to visible upconversion, as reported in Ref. [1]. The <b>Thiol</b> database \n",
    "contains calculations on 1’900 commercially available thiol compounds.\n",
    "The different tools available to analyze the database were previously introduced in Ref. [1,2]. \n",
    "<br>\n",
    "\n",
    "\n",
    "Spectroscopies:\n",
    "<ul>\n",
    "  <li><font size=\"-1\">Infrared absorption</font></li>\n",
    "  <li><font size=\"-1\">Raman scattering</font></li>\n",
    "  <li><font size=\"-1\">Infrared to Raman conversion / vibrational sum-frequency generation</font></li>\n",
    "</ul>\n",
    "\n",
    "Functionalities:\n",
    "<ul>\n",
    "  <li><font size=\"-1\">Molecular screening based on intensity of individual normal modes or in a spectral window</font></li>\n",
    "  <li><font size=\"-1\">Electromagnetic field polarization directions</font></li>\n",
    "  <li><font size=\"-1\">Random or specific molecular orientation wrt. polarization vectors</font></li>\n",
    "</ul>\n",
    "\n",
    "References:\n",
    "<ul>\n",
    "  <li><font size=\"-1\">[1] Z. Koczor-Benda <i>et al.</i>, \n",
    "  \"Computational Molecular Screening for Terahertz Detection\",\n",
    "  <i>Phys. Rev. X</i> (2021)</font></li>\n",
    "  <li><font size=\"-1\">[2] P. Roelli, D. Martin-Cano, T.J. Kippenberg & C. Galland, \n",
    "  \"Molecular Platform for Frequency Upconversion at the Single-Photon Level\", \n",
    "  <i>Phys. Rev. X</i>,<b>10</b>(3):031057 (2020)</font></li>\n",
    "</ul>\n",
    "\"\"\"\n",
    "\n",
    "howtocite=\"\"\"If this database was useful for your work, please cite it in the following way:<br>\n",
    "Z. Koczor-Benda, P. Roelli, C. Galland & E. Rosta, “Molecular Vibration Explorer: an online database \n",
    "and toolbox for terahertz detection, surface-enhanced infrared and Raman spectroscopy”, \n",
    "<i>arXiv:XXX</i> (2021)\n",
    "\"\"\"\n",
    "acknowledgements=\"This work received funding from the European Union’s Horizon 2020 research and innovation program under Grant Agreement No. 829067 (FET Open THOR)\"\n",
    "\n",
    "preamble = widgets.Accordion(\n",
    "children=[widgets.HTML(value=about), \n",
    "          widgets.HTML(value=howtocite), \n",
    "          widgets.HTML(value=acknowledgements)], \n",
    "          selected_index=0)\n",
    "\n",
    "preamble.set_title(0, 'About')\n",
    "preamble.set_title(1, 'How to cite')\n",
    "preamble.set_title(2, 'Acknowledgements')\n",
    "display(preamble)"
   ]
  },
  {
   "cell_type": "markdown",
   "metadata": {},
   "source": [
    "### Databases"
   ]
  },
  {
   "cell_type": "code",
   "execution_count": 17,
   "metadata": {},
   "outputs": [],
   "source": [
    "import os\n",
    "from IPython.core.display import HTML\n",
    "server = os.environ.get('SERVER_NAME', 'localhost') \n",
    "url = \"http://\" + server\n",
    "\n",
    "port = os.environ.get('SERVER_PORT', '')\n",
    "if port:\n",
    "    url += \":\" + port\n",
    "path = os.environ.get('SCRIPT_NAME', '')\n",
    "if path:\n",
    "    url += path\n",
    "else:\n",
    "    url=\"http://localhost:8888/voila/render/Documents/Work/Work_website/THOR-database/preamble.ipynb\"\n",
    "url=\"/\".join(url.split(\"/\")[:-1])"
   ]
  },
  {
   "cell_type": "code",
   "execution_count": 18,
   "metadata": {},
   "outputs": [
    {
     "data": {
      "text/html": [
       "<a href=http://localhost:8888/voila/render/Documents/Work/Work_website/THOR-database/database_analysis.ipynb?SH=0>Go to <b>Gold</b> database</a>"
      ],
      "text/plain": [
       "<IPython.core.display.HTML object>"
      ]
     },
     "metadata": {},
     "output_type": "display_data"
    },
    {
     "data": {
      "text/html": [
       "<a href=http://localhost:8888/voila/render/Documents/Work/Work_website/THOR-database/database_analysis.ipynb?SH=1>Go to <b>Thiol</b> database</a>"
      ],
      "text/plain": [
       "<IPython.core.display.HTML object>"
      ]
     },
     "metadata": {},
     "output_type": "display_data"
    }
   ],
   "source": [
    "SHurl=\"<a href=\"+ url+ \"/database.ipynb?SH=1>Go to <b>Thiol</b> database</a>\"\n",
    "SAuurl=\"<a href=\"+ url+ \"/database.ipynb?SH=0>Go to <b>Gold</b> database</a>\"\n",
    "\n",
    "display(HTML(SAuurl))\n",
    "display(HTML(SHurl))\n"
   ]
  },
  {
   "cell_type": "code",
   "execution_count": null,
   "metadata": {},
   "outputs": [],
   "source": []
  }
 ],
 "metadata": {
  "kernelspec": {
   "display_name": "Python 3",
   "language": "python",
   "name": "python3"
  },
  "language_info": {
   "codemirror_mode": {
    "name": "ipython",
    "version": 3
   },
   "file_extension": ".py",
   "mimetype": "text/x-python",
   "name": "python",
   "nbconvert_exporter": "python",
   "pygments_lexer": "ipython3",
   "version": "3.8.8"
  }
 },
 "nbformat": 4,
 "nbformat_minor": 4
}
