{
 "cells": [
  {
   "cell_type": "code",
   "execution_count": 1,
   "metadata": {},
   "outputs": [],
   "source": [
    "import ipywidgets as widgets\n",
    "import os\n",
    "from IPython.core.display import HTML"
   ]
  },
  {
   "cell_type": "markdown",
   "metadata": {},
   "source": [
    "##  Molecular  Vibration  Explorer"
   ]
  },
  {
   "cell_type": "code",
   "execution_count": 2,
   "metadata": {},
   "outputs": [
    {
     "data": {
      "application/vnd.jupyter.widget-view+json": {
       "model_id": "d16d1b1c641d483f9bf7a8ba31d6a341",
       "version_major": 2,
       "version_minor": 0
      },
      "text/plain": [
       "Accordion(children=(HTML(value='<b>Molecular  Vibration  Explorer</b> \\nis an interactive  tool  \\nfor explori…"
      ]
     },
     "metadata": {},
     "output_type": "display_data"
    }
   ],
   "source": [
    "about=\"\"\"<b>Molecular  Vibration  Explorer</b> \n",
    "is an interactive  tool  \n",
    "for exploring molecular vibrational  spectra  and  tensorial  light-vibration  \n",
    "coupling  strength for applications  in  the  field  of  surface-enhanced \n",
    "spectroscopy. The <b>Gold</b>  database gathers the results from density \n",
    "functional theory calculations on 2’800 commercially available thiol\n",
    "compounds linked to a gold atom, with the main motivation to screen the best molecules for\n",
    "THz and mid-infrared to visible upconversion, as reported in Ref. [1]. The <b>Thiol</b> database \n",
    "contains calculations on 1’900 commercially available thiol compounds.<br>\n",
    "\n",
    "\n",
    "Spectroscopies:\n",
    "<ul>\n",
    "  <li>Infrared absorption</li>\n",
    "  <li>Raman scattering</li>\n",
    "  <li>Infrared to Raman conversion / vibrational sum-frequency generation</li>\n",
    "</ul>\n",
    "\n",
    "Functionalities:\n",
    "<ul>\n",
    "  <li>Molecular screening based on intensity of individual normal modes or in a spectral window</li>\n",
    "  <li>Electromagnetic field polarization directions</li>\n",
    "  <li>Random or specific molecular orientation wrt. polarization vectors</li>\n",
    "</ul>\n",
    "\"\"\"\n",
    "\n",
    "reference=\"Ref.\"\n",
    "acknowledgements=\"We thank ...\"\n",
    "\n",
    "preamble = widgets.Accordion(\n",
    "children=[widgets.HTML(value=about), \n",
    "          widgets.HTML(value=reference), \n",
    "          widgets.HTML(value=acknowledgements)], \n",
    "          selected_index=0)\n",
    "\n",
    "preamble.set_title(0, 'About')\n",
    "preamble.set_title(1, 'How to cite')\n",
    "preamble.set_title(2, 'Acknowledgements')\n",
    "display(preamble)"
   ]
  },
  {
   "cell_type": "markdown",
   "metadata": {},
   "source": [
    "### Tutorial"
   ]
  },
  {
   "cell_type": "markdown",
   "metadata": {},
   "source": [
    "### Databases"
   ]
  },
  {
   "cell_type": "code",
   "execution_count": 5,
   "metadata": {},
   "outputs": [],
   "source": [
    "server = os.environ.get('SERVER_NAME', 'localhost') \n",
    "url = \"http://\" + server\n",
    "\n",
    "port = os.environ.get('SERVER_PORT', '')\n",
    "if port:\n",
    "    url += \":\" + port\n",
    "path = os.environ.get('SCRIPT_NAME', '')\n",
    "if path:\n",
    "    url += path\n",
    "else:\n",
    "    url=\"http://localhost:8888/voila/render/Documents/Work/Work_website/molecular-vibration-explorer/index.ipynb\"\n",
    "url=\"/\".join(url.split(\"/\")[:-1])"
   ]
  },
  {
   "cell_type": "code",
   "execution_count": 6,
   "metadata": {},
   "outputs": [
    {
     "data": {
      "text/html": [
       "<a href=http://localhost:8888/voila/render/Documents/Work/Work_website/molecular-vibration-explorer/database.ipynb?SH=0>Go to <b>Gold</b> database</a>"
      ],
      "text/plain": [
       "<IPython.core.display.HTML object>"
      ]
     },
     "metadata": {},
     "output_type": "display_data"
    },
    {
     "data": {
      "text/html": [
       "<a href=http://localhost:8888/voila/render/Documents/Work/Work_website/molecular-vibration-explorer/database.ipynb?SH=1>Go to <b>Thiol</b> database</a>"
      ],
      "text/plain": [
       "<IPython.core.display.HTML object>"
      ]
     },
     "metadata": {},
     "output_type": "display_data"
    }
   ],
   "source": [
    "SHurl=\"<a href=\"+ url+ \"/database.ipynb?SH=1>Go to <b>Thiol</b> database</a>\"\n",
    "SAuurl=\"<a href=\"+ url+ \"/database.ipynb?SH=0>Go to <b>Gold</b> database</a>\"\n",
    "\n",
    "display(HTML(SAuurl))\n",
    "display(HTML(SHurl))\n"
   ]
  },
  {
   "cell_type": "code",
   "execution_count": null,
   "metadata": {},
   "outputs": [],
   "source": []
  }
 ],
 "metadata": {
  "kernelspec": {
   "display_name": "Python 3",
   "language": "python",
   "name": "python3"
  },
  "language_info": {
   "codemirror_mode": {
    "name": "ipython",
    "version": 3
   },
   "file_extension": ".py",
   "mimetype": "text/x-python",
   "name": "python",
   "nbconvert_exporter": "python",
   "pygments_lexer": "ipython3",
   "version": "3.7.10"
  }
 },
 "nbformat": 4,
 "nbformat_minor": 4
}
