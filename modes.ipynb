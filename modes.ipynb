{
 "cells": [
  {
   "cell_type": "code",
   "execution_count": 1,
   "metadata": {},
   "outputs": [
    {
     "data": {
      "application/vnd.jupyter.widget-view+json": {
       "model_id": "d1a4d25555a2457c9d28ad2ff5cd421c",
       "version_major": 2,
       "version_minor": 0
      },
      "text/plain": []
     },
     "metadata": {},
     "output_type": "display_data"
    }
   ],
   "source": [
    "import numpy as np\n",
    "import math\n",
    "import matplotlib.pyplot as plt\n",
    "import ipywidgets as widgets\n",
    "from ipywidgets import interact, interactive, fixed, interact_manual\n",
    "import mplcursors\n",
    "from random import randrange\n",
    "import nglview as nv\n",
    "from nglview.viewer_control import ViewerControl\n",
    "import os\n",
    "from urllib.parse import parse_qs,urlparse\n",
    "import IPython.display\n",
    "from IPython.core.display import HTML\n",
    "from ipywidgets import HBox, Layout,VBox\n",
    "from ipywidgets  import interactive_output"
   ]
  },
  {
   "cell_type": "code",
   "execution_count": 2,
   "metadata": {},
   "outputs": [],
   "source": [
    "from tools.load_molecule_data import load_data_file\n",
    "from tools.helper_functions import calc_scaling,unit_rot\n",
    "from tools.calc_single import single_polar_IR,single_polar_R\n",
    "from tools.plotting_functions import polar_plot"
   ]
  },
  {
   "cell_type": "code",
   "execution_count": 3,
   "metadata": {},
   "outputs": [],
   "source": [
    "try:\n",
    "    query = os.environ.get('QUERY_STRING', '')\n",
    "    parameters = parse_qs(query)\n",
    "    molcode=parameters.get('Molcode')[0]\n",
    "    SH=int(parameters.get('SH')[0])\n",
    "except:\n",
    "    molcode=\"000-823-384\"\n",
    "    SH=0\n",
    "if SH:\n",
    "    molfilename=\"data_SH/\"+molcode+\".mol\"  \n",
    "    filename=\"data_SH/\"+molcode+\".dat\"  \n",
    "else:\n",
    "    molfilename=\"data_SAu/\"+molcode+\".mol\"  \n",
    "    filename=\"data_SAu/\"+molcode+\".dat\"  "
   ]
  },
  {
   "cell_type": "code",
   "execution_count": 4,
   "metadata": {},
   "outputs": [
    {
     "data": {
      "text/html": [
       "<a href=http://localhost:8888/voila/render/Documents/Work/Work_website/molecular-vibration-explorer/index.ipynb>Go back to Index</a>"
      ],
      "text/plain": [
       "<IPython.core.display.HTML object>"
      ]
     },
     "metadata": {},
     "output_type": "display_data"
    },
    {
     "data": {
      "text/html": [
       "<a href=http://localhost:8888/voila/render/Documents/Work/Work_website/molecular-vibration-explorer/database.ipynb?SH=0>Go back to database</a>"
      ],
      "text/plain": [
       "<IPython.core.display.HTML object>"
      ]
     },
     "metadata": {},
     "output_type": "display_data"
    },
    {
     "data": {
      "text/html": [
       "<a href=http://localhost:8888/voila/render/Documents/Work/Work_website/molecular-vibration-explorer/molecule.ipynb?Molcode=000-823-384&SH=0>Go to molecule page</a>"
      ],
      "text/plain": [
       "<IPython.core.display.HTML object>"
      ]
     },
     "metadata": {},
     "output_type": "display_data"
    }
   ],
   "source": [
    "server = os.environ.get('SERVER_NAME', 'localhost') \n",
    "url = \"http://\" + server\n",
    "\n",
    "port = os.environ.get('SERVER_PORT', '')\n",
    "if port:\n",
    "    url += \":\" + port\n",
    "path = os.environ.get('SCRIPT_NAME', '')\n",
    "if path:\n",
    "    url += path\n",
    "else:\n",
    "    url=\"http://localhost:8888/voila/render/Documents/Work/Work_website/molecular-vibration-explorer/modes.ipynb\"\n",
    "url=\"/\".join(url.split(\"/\")[:-1])\n",
    "\n",
    "index_url=\"<a href=\"+ url+ \"/index.ipynb>Go back to Index</a>\"\n",
    "display(HTML(index_url))\n",
    "database_url=\"<a href=\"+ url+ \"/database.ipynb?SH={}\".format(SH)+\">Go back to database</a>\"\n",
    "display(HTML(database_url))\n",
    "mol_url=\"<a href=\"+ url+ \"/molecule.ipynb\" +\"?Molcode=\"+molcode+\"&SH={}\".format(SH)+\">Go to molecule page</a>\"\n",
    "display(HTML(mol_url))\n",
    "\n"
   ]
  },
  {
   "cell_type": "code",
   "execution_count": 5,
   "metadata": {},
   "outputs": [],
   "source": [
    "fr,Q,D,P,nat,aniso=load_data_file(filename)\n",
    "nmodes=len(fr)"
   ]
  },
  {
   "cell_type": "code",
   "execution_count": 6,
   "metadata": {},
   "outputs": [],
   "source": [
    "# read in coordinates from mol file for displaying vibrations\n",
    "def read_mol(molfilename):\n",
    "    molcoords=[]\n",
    "    with open(molfilename,'r') as inpfile:\n",
    "        line=inpfile.readline()\n",
    "        while line:\n",
    "            spl=line.split()\n",
    "            if len(spl)==16:\n",
    "                molcoords.append([float(spl[0]),float(spl[1]),float(spl[2])])\n",
    "            line=inpfile.readline()\n",
    "    return molcoords\n",
    "\n",
    "molcoords=read_mol(molfilename)"
   ]
  },
  {
   "cell_type": "code",
   "execution_count": 7,
   "metadata": {},
   "outputs": [],
   "source": [
    "%matplotlib widget\n",
    "# create polar plot\n",
    "cm_to_thz=0.02998\n",
    "pi=math.pi\n",
    "torad=2*pi/360\n",
    "\n",
    "def plot_displacements(mode,sc):\n",
    "    modenum=int(mode.split(\":\",1)[0])\n",
    "    m=modenum-1 # Python starts from 0\n",
    "    display(widgets.Label(value=\"Molecule \"+molcode,layout = widgets.Layout(display=\"flex\", \n",
    "                                                                            justify_content=\"center\",width='450px')))\n",
    "   # display(widgets.Label(value=molfilename.split(\"/\")[-1]))\n",
    "    #print(molfilename)\n",
    "    # Display molecule and chosen vibration\n",
    "    view = nv.NGLWidget()\n",
    "    comp = view.add_component(molfilename) \n",
    "    \n",
    "    control = ViewerControl(view=view)\n",
    "  #  control.spin([1,0,0],-90*torad)\n",
    "  #  control.spin([0,0,1],40*torad)\n",
    "\n",
    "    for at in range(nat):\n",
    "        displ1=list(molcoords[at]-sc*Q[m,at])\n",
    "        displ2=list(molcoords[at]+sc*Q[m,at])\n",
    "        view.shape.add_arrow(displ1, displ2, [ 0, 0, 0 ], 0.2)\n",
    "    # show axes\n",
    "    view.shape.add_arrow([-4,-4,-4], [-2,-4,-4], [ 0, 0, 1 ], 0.2, 'x')\n",
    "    view.shape.add_arrow([-4,-4,-4], [-4,-2,-4], [ 1, 0, 0 ], 0.2, 'y')\n",
    "    view.shape.add_arrow([-4,-4,-4], [-4,-4,-2], [ 0, 0.8, 0.2 ], 0.2, 'z')\n",
    "    view.shape.add('text', [-1.5,-4,-4], [ 0, 0, 1 ], 3, 'x')\n",
    "    view.shape.add('text', [-4, -1.5, -4], [ 1, 0, 0 ], 3, 'y')\n",
    "    view.shape.add('text', [-4, -4, -1.5], [ 0, 0.8, 0.2 ], 3, 'z')\n",
    " #   display(view)\n",
    "    view.control.zoom(0.3)\n",
    "    from ipywidgets import Box\n",
    "\n",
    "\n",
    "    box = Box([view])\n",
    "    box.layout.width = '450px'\n",
    "    box.layout.height = '420px'\n",
    "    display(box)\n",
    "    \n",
    "    layout=widgets.Layout(width='120px')\n",
    "    labellayout=widgets.Layout(width='120px')\n",
    "    \n",
    "    frequencycm=HBox([widgets.Label(value=r'Frequency /cm$^{-1}$:',layout=labellayout),widgets.Text(value=\"{:.1f}\".format(fr[m]),\n",
    "                                                            step=0.1,disabled=True,layout=layout)])\n",
    "    frequencyTHz=HBox([widgets.Label(value=r'Frequency /THz:',layout=labellayout),widgets.Text(value=\"{:.3f}\".format(cm_to_thz*fr[m]),\n",
    "                                                            step=0.1,disabled=True,layout=layout)])\n",
    "    display(frequencycm,frequencyTHz)\n",
    "\n",
    "def plot_single_mode(mode,rb_type_study,rb_polar_plan,rb_ir_beam,rb_rin_beam,rb_rout_beam):\n",
    "    modenum=int(mode.split(\":\",1)[0])\n",
    "    m=modenum-1 \n",
    "    polarizations=[np.array([1.,0.,0.]),np.array([0.,1.,0.]),np.array([0.,0.,1.])]\n",
    "    theta = np.linspace(0, 2*pi, num=200, endpoint=True) \n",
    "    nb_theta=len(theta)\n",
    "    I=np.zeros(nb_theta)\n",
    "    proj=rb_polar_plan\n",
    "    e=polarizations[rb_ir_beam]\n",
    "    e_in=polarizations[rb_rin_beam]\n",
    "    e_out=polarizations[rb_rout_beam]\n",
    "    \n",
    "    for t in range (0,nb_theta) :\n",
    "        r=unit_rot(proj,theta[t])\n",
    "        if rb_type_study==1 :\n",
    "            I[t]=single_polar_IR(D[m,:],r,e)\n",
    "        elif rb_type_study==2 :\n",
    "            I[t]=single_polar_R(P[m,:,:],r,e_in,e_out)\n",
    "        elif rb_type_study==3 :\n",
    "            I[t]=single_polar_IR(D[m,:],r,e)*single_polar_R(P[m,:,:],r,e_in,e_out)\n",
    "    \n",
    "    I=I/np.max(I)\n",
    "    line=polar_plot(theta,I)\n",
    "    c1 = mplcursors.cursor(line)\n",
    "    @c1.connect(\"add\")\n",
    "    def _(sel):\n",
    "        sel.annotation.get_bbox_patch().set(fc=\"white\")\n",
    "        sel.annotation.arrow_patch.set(arrowstyle=\"simple\", fc=\"white\", alpha=.5)\n",
    "\n",
    "    ax=plt.gca()\n",
    "    plt.tight_layout()\n",
    "    plt.show()\n",
    "    display(widgets.Label(value=\"Click to create cursor, Right-click to remove it\"))"
   ]
  },
  {
   "cell_type": "markdown",
   "metadata": {},
   "source": [
    "### Normal modes"
   ]
  },
  {
   "cell_type": "code",
   "execution_count": 8,
   "metadata": {},
   "outputs": [
    {
     "data": {
      "application/vnd.jupyter.widget-view+json": {
       "model_id": "42b687d37de54ce4b49a9def14a1f0fb",
       "version_major": 2,
       "version_minor": 0
      },
      "text/plain": [
       "HBox(children=(VBox(children=(Dropdown(description='Mode:', layout=Layout(width='280px'), options=('1: 12.3 cm…"
      ]
     },
     "metadata": {},
     "output_type": "display_data"
    }
   ],
   "source": [
    "layout=widgets.Layout(width='280px', description_width='200px')\n",
    "style = {'description_width': '120px'}\n",
    "\n",
    "axes=[[\"x\",0], [\"y\",1] ,[\"z\",2]]\n",
    "studies=[[\"IR absorption\",1], [\"Raman scattering\",2] ,[\"Conversion/SFG\",3]]\n",
    "planes=[[\"x-y plane\",1], [\"x-z plane\",2] ,[\"y-z plane\",3]]\n",
    "\n",
    "options=[]\n",
    "for n,f in enumerate(fr):\n",
    "    options.append(\"{}: {:.1f} cm-1\".format(n+1,f))\n",
    "\n",
    "mode=widgets.Dropdown(options=options, #np.arange(1,nmodes+1),\n",
    "    value=options[0],\n",
    "    description='Mode:',layout=layout,style=style\n",
    ")\n",
    "\n",
    "sc=widgets.FloatSlider(value=3.5,min=1,max=10,step=0.1,description='Scale arrows:',\n",
    "                                layout=layout,\n",
    "                                  style=style)\n",
    "\n",
    "rb_type_study=widgets.RadioButtons(\n",
    "                        options=studies,\n",
    "                        value=1,\n",
    "                        description='Spectroscopy:',\n",
    "                        layout=layout,\n",
    "                        style=style,\n",
    "                        disabled=False\n",
    "                    )\n",
    "rb_polar_plan=widgets.RadioButtons(\n",
    "                        options=planes,\n",
    "                        value=2,\n",
    "                        description='Projection:',\n",
    "                        layout=layout,\n",
    "                        style=style,\n",
    "                        disabled=False\n",
    "                    )\n",
    "rb_ir_beam=widgets.RadioButtons(\n",
    "                        options=axes,\n",
    "                        value=2,\n",
    "                        description='THz/IR beam:',\n",
    "                        layout=layout,\n",
    "                        style=style\n",
    "                    )\n",
    "rb_rin_beam=widgets.RadioButtons(\n",
    "                        options=axes,\n",
    "                        value=2,\n",
    "                        description=r'Raman $\\it{in}$ beam:',\n",
    "                        layout=layout,\n",
    "                        style=style\n",
    "                    )\n",
    "rb_rout_beam=widgets.RadioButtons(\n",
    "                        options=axes,\n",
    "                        value=2,\n",
    "                        description=r'Raman $\\it{out}$ beam:',\n",
    "                        layout=layout,\n",
    "                        style=style\n",
    "                    )\n",
    "     \n",
    "int_mode_plot = interactive_output(plot_displacements, {'mode':mode, 'sc':sc})\n",
    "\n",
    "int_polar_plot = interactive_output(plot_single_mode,  \n",
    "         {'mode':mode,\n",
    "         'rb_type_study':rb_type_study,\n",
    "         'rb_polar_plan':rb_polar_plan,\n",
    "         'rb_ir_beam':rb_ir_beam,\n",
    "         'rb_rin_beam':rb_rin_beam,\n",
    "         'rb_rout_beam':rb_rout_beam\n",
    "         })\n",
    "\n",
    "controls =VBox([mode,sc,rb_type_study,rb_polar_plan,rb_ir_beam,rb_rin_beam,rb_rout_beam]) \n",
    "\n",
    "controls.layout.height = '600px'\n",
    "controls.layout.width = '300px'\n",
    "display(HBox([controls,int_mode_plot,int_polar_plot], layout=Layout(justify_content='space-around')))"
   ]
  },
  {
   "cell_type": "code",
   "execution_count": null,
   "metadata": {},
   "outputs": [],
   "source": []
  }
 ],
 "metadata": {
  "kernelspec": {
   "display_name": "Python 3",
   "language": "python",
   "name": "python3"
  },
  "language_info": {
   "codemirror_mode": {
    "name": "ipython",
    "version": 3
   },
   "file_extension": ".py",
   "mimetype": "text/x-python",
   "name": "python",
   "nbconvert_exporter": "python",
   "pygments_lexer": "ipython3",
   "version": "3.8.8"
  }
 },
 "nbformat": 4,
 "nbformat_minor": 4
}
